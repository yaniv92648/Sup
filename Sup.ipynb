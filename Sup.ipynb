{
 "cells": [
  {
   "cell_type": "markdown",
   "metadata": {
    "colab_type": "text",
    "id": "view-in-github"
   },
   "source": [
    "<a href=\"https://colab.research.google.com/github/yaniv92648/Sup/blob/master/Sup.ipynb\" target=\"_parent\"><img src=\"https://colab.research.google.com/assets/colab-badge.svg\" alt=\"Open In Colab\"/></a>"
   ]
  },
  {
   "cell_type": "code",
   "execution_count": 1,
   "metadata": {
    "ExecuteTime": {
     "end_time": "2020-06-09T10:21:09.692312Z",
     "start_time": "2020-06-09T10:21:09.084502Z"
    },
    "colab": {},
    "colab_type": "code",
    "id": "g5HJs9fsI6Fn"
   },
   "outputs": [],
   "source": [
    "import pandas as pd\n",
    "import numpy as np\n",
    "import matplotlib.pyplot as plt"
   ]
  },
  {
   "cell_type": "code",
   "execution_count": 2,
   "metadata": {
    "ExecuteTime": {
     "end_time": "2020-06-09T10:21:09.696907Z",
     "start_time": "2020-06-09T10:21:09.692901Z"
    },
    "colab": {},
    "colab_type": "code",
    "id": "LGlbS7ZAJTyt"
   },
   "outputs": [],
   "source": [
    "features = {'Username', 'Age-range', 'Language', 'Features', 'Other'}"
   ]
  },
  {
   "cell_type": "code",
   "execution_count": 3,
   "metadata": {
    "ExecuteTime": {
     "end_time": "2020-06-09T10:21:09.703874Z",
     "start_time": "2020-06-09T10:21:09.698886Z"
    },
    "colab": {},
    "colab_type": "code",
    "id": "MaZ4lChiLrA8"
   },
   "outputs": [],
   "source": [
    "fields_of_interest = \"\"\"Agriculture/Gardening\n",
    "Architecture\n",
    "Childcare\n",
    "Cooking/Dining\n",
    "Crafts\n",
    "Current Affairs\n",
    "Design/Graphic Arts\n",
    "Education/Teaching\n",
    "Engineering/Electronics\n",
    "Environment/Natural Resources\n",
    "Film\n",
    "Finance/Investment\n",
    "Fine, Visual, Performing Arts\n",
    "Gaming\n",
    "Government/Public Sector/Policy\n",
    "Healthcare/Medicine\n",
    "History\n",
    "Hospitality/Tourism\n",
    "Intelligence/Criminal Justice/Security\n",
    "Mindfulness\n",
    "Music\n",
    "Petcare\n",
    "Reading/Books\n",
    "Retail/Shopping\n",
    "Science\n",
    "Sports\n",
    "Tech\n",
    "Travel\n",
    "Volunteering\n",
    "Writing/Publishing/Translation\"\"\"\n",
    "\n",
    "fields_of_interest = fields_of_interest.split('\\n')"
   ]
  },
  {
   "cell_type": "code",
   "execution_count": 4,
   "metadata": {
    "ExecuteTime": {
     "end_time": "2020-06-09T10:21:09.713848Z",
     "start_time": "2020-06-09T10:21:09.705867Z"
    },
    "colab": {
     "base_uri": "https://localhost:8080/",
     "height": 537
    },
    "colab_type": "code",
    "id": "wgHlq8ixNz-0",
    "outputId": "291ed14d-2e5b-4a89-a5a7-5e4de1c89467"
   },
   "outputs": [
    {
     "data": {
      "text/plain": [
       "['Agriculture/Gardening',\n",
       " 'Architecture',\n",
       " 'Childcare',\n",
       " 'Cooking/Dining',\n",
       " 'Crafts',\n",
       " 'Current Affairs',\n",
       " 'Design/Graphic Arts',\n",
       " 'Education/Teaching',\n",
       " 'Engineering/Electronics',\n",
       " 'Environment/Natural Resources',\n",
       " 'Film',\n",
       " 'Finance/Investment',\n",
       " 'Fine, Visual, Performing Arts',\n",
       " 'Gaming',\n",
       " 'Government/Public Sector/Policy',\n",
       " 'Healthcare/Medicine',\n",
       " 'History',\n",
       " 'Hospitality/Tourism',\n",
       " 'Intelligence/Criminal Justice/Security',\n",
       " 'Mindfulness',\n",
       " 'Music',\n",
       " 'Petcare',\n",
       " 'Reading/Books',\n",
       " 'Retail/Shopping',\n",
       " 'Science',\n",
       " 'Sports',\n",
       " 'Tech',\n",
       " 'Travel',\n",
       " 'Volunteering',\n",
       " 'Writing/Publishing/Translation']"
      ]
     },
     "execution_count": 4,
     "metadata": {},
     "output_type": "execute_result"
    }
   ],
   "source": [
    "fields_of_interest"
   ]
  },
  {
   "cell_type": "code",
   "execution_count": 5,
   "metadata": {
    "ExecuteTime": {
     "end_time": "2020-06-09T10:21:09.719868Z",
     "start_time": "2020-06-09T10:21:09.714842Z"
    },
    "colab": {},
    "colab_type": "code",
    "id": "ldUR9I0mN1zK"
   },
   "outputs": [],
   "source": [
    "age_ranges = ['under 25', '26-35', '36-45', '46-55', '56-65', 'over 65']"
   ]
  },
  {
   "cell_type": "code",
   "execution_count": 6,
   "metadata": {
    "ExecuteTime": {
     "end_time": "2020-06-09T10:21:10.379632Z",
     "start_time": "2020-06-09T10:21:09.720827Z"
    },
    "colab": {},
    "colab_type": "code",
    "id": "xYjBX4tzPXgp"
   },
   "outputs": [],
   "source": [
    "df = pd.read_csv(r'NationalNames.csv')\n",
    "names = df.Name"
   ]
  },
  {
   "cell_type": "code",
   "execution_count": 7,
   "metadata": {
    "ExecuteTime": {
     "end_time": "2020-06-09T10:21:10.687207Z",
     "start_time": "2020-06-09T10:21:10.380644Z"
    },
    "colab": {},
    "colab_type": "code",
    "id": "eQ0qBLiCSSGE"
   },
   "outputs": [],
   "source": [
    "usernames = names.apply(lambda x: x+'@gmail.com')"
   ]
  },
  {
   "cell_type": "code",
   "execution_count": 8,
   "metadata": {
    "ExecuteTime": {
     "end_time": "2020-06-09T10:21:10.694801Z",
     "start_time": "2020-06-09T10:21:10.689816Z"
    },
    "colab": {
     "base_uri": "https://localhost:8080/",
     "height": 225
    },
    "colab_type": "code",
    "id": "HJqtUwRgSs1K",
    "outputId": "13e5dc7b-bea7-4751-b335-017cc9fba846"
   },
   "outputs": [
    {
     "data": {
      "text/plain": [
       "0               Mary@gmail.com\n",
       "1               Anna@gmail.com\n",
       "2               Emma@gmail.com\n",
       "3          Elizabeth@gmail.com\n",
       "4             Minnie@gmail.com\n",
       "                  ...         \n",
       "1825428       Zykeem@gmail.com\n",
       "1825429       Zymeer@gmail.com\n",
       "1825430      Zymiere@gmail.com\n",
       "1825431        Zyran@gmail.com\n",
       "1825432        Zyrin@gmail.com\n",
       "Name: Name, Length: 1825433, dtype: object"
      ]
     },
     "execution_count": 8,
     "metadata": {},
     "output_type": "execute_result"
    }
   ],
   "source": [
    "usernames"
   ]
  },
  {
   "cell_type": "code",
   "execution_count": 9,
   "metadata": {
    "ExecuteTime": {
     "end_time": "2020-06-09T10:21:10.702821Z",
     "start_time": "2020-06-09T10:21:10.696795Z"
    },
    "colab": {},
    "colab_type": "code",
    "id": "lWndcBEFYGWQ"
   },
   "outputs": [],
   "source": [
    "list_of_interests = ['Dance, Disco, Funk',\n",
    "       'Folk music', 'Country', 'Classical', 'Musicals', 'Pop', 'Rock',\n",
    "       'Metal, Hard rock', 'Punk', 'Hip hop, Rap', 'Reggae, Ska',\n",
    "       'Swing, Jazz', 'Rock n Roll', 'Alternative music', 'Latin',\n",
    "       'Techno, Trance', 'Opera', 'I really enjoy watching movies.',\n",
    "       'Horror movies', 'Thriller movies', 'Comedies', 'Romantic movies',\n",
    "       'Sci-fi movies', 'War movies', 'Tales', 'Cartoons',\n",
    "       'Documentaries', 'Western movies', 'Action movies', 'History',\n",
    "       'Psychology', 'Politics', 'Mathematics', 'Physics', 'Internet',\n",
    "       'PC Software, Hardware', 'Economy, Management', 'Biology',\n",
    "       'Chemistry', 'Poetry reading', 'Geography', 'Foreign languages',\n",
    "       'Medicine', 'Law', 'Cars', 'Art', 'Religion', 'Outdoor activities',\n",
    "       'Dancing', 'Playing musical instruments', 'Poetry writing',\n",
    "       'Sport and leisure activities', 'Sport at competitive level',\n",
    "       'Gardening', 'Celebrity lifestyle', 'Shopping',\n",
    "       'Science and technology', 'Theatre', 'Socializing',\n",
    "       'Adrenaline sports', 'Pets', 'Flying', 'Thunder, lightning',\n",
    "       'Darkness', 'Heights', 'Spiders', 'Snakes', 'Rats, mice', 'Ageing',\n",
    "       'Dangerous dogs', 'Public speaking', 'Smoking habits', 'Drinking',]\n",
    "list_of_interests = [string.split(' ') for string in list_of_interests]"
   ]
  },
  {
   "cell_type": "code",
   "execution_count": 10,
   "metadata": {
    "ExecuteTime": {
     "end_time": "2020-06-09T10:21:10.710758Z",
     "start_time": "2020-06-09T10:21:10.703776Z"
    },
    "colab": {
     "base_uri": "https://localhost:8080/",
     "height": 35
    },
    "colab_type": "code",
    "id": "WOVfsS1dVFq2",
    "outputId": "c14c37c0-3a7b-4c06-ae58-5099d6bd3e99"
   },
   "outputs": [
    {
     "data": {
      "text/plain": [
       "121"
      ]
     },
     "execution_count": 10,
     "metadata": {},
     "output_type": "execute_result"
    }
   ],
   "source": [
    "list_of_interests = [item for sublist in list_of_interests for item in sublist]\n",
    "len(list_of_interests)"
   ]
  },
  {
   "cell_type": "code",
   "execution_count": 11,
   "metadata": {
    "ExecuteTime": {
     "end_time": "2020-06-09T10:21:10.720733Z",
     "start_time": "2020-06-09T10:21:10.712755Z"
    },
    "colab": {
     "base_uri": "https://localhost:8080/",
     "height": 52
    },
    "colab_type": "code",
    "id": "iPV3IFjIYrEk",
    "outputId": "3c1de10a-6066-4a27-a12b-9455a06776b4"
   },
   "outputs": [
    {
     "data": {
      "text/plain": [
       "array(['Adrenaline', 'competitive', 'Snakes', 'Mathematics',\n",
       "       'instruments', 'reading'], dtype='<U13')"
      ]
     },
     "execution_count": 11,
     "metadata": {},
     "output_type": "execute_result"
    }
   ],
   "source": [
    "np.random.choice(list_of_interests, 6)"
   ]
  },
  {
   "cell_type": "code",
   "execution_count": null,
   "metadata": {
    "ExecuteTime": {
     "start_time": "2020-06-09T10:21:09.096Z"
    },
    "colab": {},
    "colab_type": "code",
    "id": "Mkvl9rP_Yl9T"
   },
   "outputs": [],
   "source": [
    "free_interests, ages = [], []\n",
    "for i in range(usernames.size):\n",
    "    free_interests.append(np.random.choice(list_of_interests, 6))\n",
    "    ages.append(np.random.choice(age_ranges, 1))"
   ]
  },
  {
   "cell_type": "code",
   "execution_count": null,
   "metadata": {
    "ExecuteTime": {
     "start_time": "2020-06-09T10:21:09.097Z"
    },
    "colab": {
     "base_uri": "https://localhost:8080/",
     "height": 1000
    },
    "colab_type": "code",
    "id": "gxkIA5Oobp1g",
    "outputId": "02b0b7cc-1a46-4999-c16b-0638c9e78305"
   },
   "outputs": [],
   "source": [
    "free_interests[0]\n",
    "ages[0]"
   ]
  },
  {
   "cell_type": "code",
   "execution_count": null,
   "metadata": {
    "ExecuteTime": {
     "start_time": "2020-06-09T10:21:09.098Z"
    },
    "colab": {},
    "colab_type": "code",
    "id": "bRpmHK5Db2AK"
   },
   "outputs": [],
   "source": [
    "mock_df = pd.Dataframe(features)"
   ]
  },
  {
   "cell_type": "code",
   "execution_count": null,
   "metadata": {
    "colab": {},
    "colab_type": "code",
    "id": "siwcFSH3cOGF"
   },
   "outputs": [],
   "source": []
  }
 ],
 "metadata": {
  "colab": {
   "collapsed_sections": [],
   "include_colab_link": true,
   "name": "Sup.ipynb",
   "provenance": []
  },
  "kernelspec": {
   "display_name": "Python 3",
   "language": "python",
   "name": "python3"
  },
  "language_info": {
   "codemirror_mode": {
    "name": "ipython",
    "version": 3
   },
   "file_extension": ".py",
   "mimetype": "text/x-python",
   "name": "python",
   "nbconvert_exporter": "python",
   "pygments_lexer": "ipython3",
   "version": "3.6.10"
  },
  "toc": {
   "base_numbering": 1,
   "nav_menu": {},
   "number_sections": true,
   "sideBar": true,
   "skip_h1_title": false,
   "title_cell": "Table of Contents",
   "title_sidebar": "Contents",
   "toc_cell": false,
   "toc_position": {},
   "toc_section_display": true,
   "toc_window_display": false
  },
  "varInspector": {
   "cols": {
    "lenName": 16,
    "lenType": 16,
    "lenVar": 40
   },
   "kernels_config": {
    "python": {
     "delete_cmd_postfix": "",
     "delete_cmd_prefix": "del ",
     "library": "var_list.py",
     "varRefreshCmd": "print(var_dic_list())"
    },
    "r": {
     "delete_cmd_postfix": ") ",
     "delete_cmd_prefix": "rm(",
     "library": "var_list.r",
     "varRefreshCmd": "cat(var_dic_list()) "
    }
   },
   "types_to_exclude": [
    "module",
    "function",
    "builtin_function_or_method",
    "instance",
    "_Feature"
   ],
   "window_display": false
  }
 },
 "nbformat": 4,
 "nbformat_minor": 1
}
