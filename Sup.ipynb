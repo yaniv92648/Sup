{
  "nbformat": 4,
  "nbformat_minor": 0,
  "metadata": {
    "colab": {
      "name": "Sup.ipynb",
      "provenance": [],
      "collapsed_sections": [],
      "include_colab_link": true
    },
    "kernelspec": {
      "name": "python3",
      "display_name": "Python 3"
    }
  },
  "cells": [
    {
      "cell_type": "markdown",
      "metadata": {
        "id": "view-in-github",
        "colab_type": "text"
      },
      "source": [
        "<a href=\"https://colab.research.google.com/github/yaniv92648/Sup/blob/master/Sup.ipynb\" target=\"_parent\"><img src=\"https://colab.research.google.com/assets/colab-badge.svg\" alt=\"Open In Colab\"/></a>"
      ]
    },
    {
      "cell_type": "code",
      "metadata": {
        "id": "g5HJs9fsI6Fn",
        "colab_type": "code",
        "colab": {}
      },
      "source": [
        "import pandas as pd\n",
        "import numpy as np\n",
        "import matplotlib.pyplot as plt"
      ],
      "execution_count": 0,
      "outputs": []
    },
    {
      "cell_type": "code",
      "metadata": {
        "id": "LGlbS7ZAJTyt",
        "colab_type": "code",
        "colab": {}
      },
      "source": [
        "features = {'Username', 'Age', 'Language', 'Features', 'Other'}"
      ],
      "execution_count": 0,
      "outputs": []
    },
    {
      "cell_type": "code",
      "metadata": {
        "id": "MaZ4lChiLrA8",
        "colab_type": "code",
        "colab": {}
      },
      "source": [
        "fields_of_interest = \"\"\"Agriculture/Gardening\n",
        "Architecture\n",
        "Childcare\n",
        "Cooking/Dining\n",
        "Crafts\n",
        "Current Affairs\n",
        "Design/Graphic Arts\n",
        "Education/Teaching\n",
        "Engineering/Electronics\n",
        "Environment/Natural Resources\n",
        "Film\n",
        "Finance/Investment\n",
        "Fine, Visual, Performing Arts\n",
        "Gaming\n",
        "Government/Public Sector/Policy\n",
        "Healthcare/Medicine\n",
        "History\n",
        "Hospitality/Tourism\n",
        "Intelligence/Criminal Justice/Security\n",
        "Mindfulness\n",
        "Music\n",
        "Petcare\n",
        "Reading/Books\n",
        "Retail/Shopping\n",
        "Science\n",
        "Sports\n",
        "Tech\n",
        "Travel\n",
        "Volunteering\n",
        "Writing/Publishing/Translation\"\"\"\n",
        "\n",
        "fields_of_interest = fields_of_interest.split('\\n')"
      ],
      "execution_count": 0,
      "outputs": []
    },
    {
      "cell_type": "code",
      "metadata": {
        "id": "wgHlq8ixNz-0",
        "colab_type": "code",
        "outputId": "4bc884c2-d540-4023-c7c6-a4b4d3a69bd1",
        "colab": {
          "base_uri": "https://localhost:8080/",
          "height": 537
        }
      },
      "source": [
        "fields_of_interest"
      ],
      "execution_count": 0,
      "outputs": [
        {
          "output_type": "execute_result",
          "data": {
            "text/plain": [
              "['Agriculture/Gardening',\n",
              " 'Architecture',\n",
              " 'Childcare',\n",
              " 'Cooking/Dining',\n",
              " 'Crafts',\n",
              " 'Current Affairs',\n",
              " 'Design/Graphic Arts',\n",
              " 'Education/Teaching',\n",
              " 'Engineering/Electronics',\n",
              " 'Environment/Natural Resources',\n",
              " 'Film',\n",
              " 'Finance/Investment',\n",
              " 'Fine, Visual, Performing Arts',\n",
              " 'Gaming',\n",
              " 'Government/Public Sector/Policy',\n",
              " 'Healthcare/Medicine',\n",
              " 'History',\n",
              " 'Hospitality/Tourism',\n",
              " 'Intelligence/Criminal Justice/Security',\n",
              " 'Mindfulness',\n",
              " 'Music',\n",
              " 'Petcare',\n",
              " 'Reading/Books',\n",
              " 'Retail/Shopping',\n",
              " 'Science',\n",
              " 'Sports',\n",
              " 'Tech',\n",
              " 'Travel',\n",
              " 'Volunteering',\n",
              " 'Writing/Publishing/Translation']"
            ]
          },
          "metadata": {
            "tags": []
          },
          "execution_count": 9
        }
      ]
    },
    {
      "cell_type": "code",
      "metadata": {
        "id": "ldUR9I0mN1zK",
        "colab_type": "code",
        "colab": {}
      },
      "source": [
        "Age_ranges = ['under 25', '26-35', '36-45', '46-55', '56-65', 'over 65']"
      ],
      "execution_count": 0,
      "outputs": []
    },
    {
      "cell_type": "code",
      "metadata": {
        "id": "xYjBX4tzPXgp",
        "colab_type": "code",
        "colab": {}
      },
      "source": [
        ""
      ],
      "execution_count": 0,
      "outputs": []
    }
  ]
}